{
 "cells": [
  {
   "cell_type": "markdown",
   "source": [
    "# Импорт библиотек"
   ],
   "metadata": {
    "collapsed": false
   },
   "id": "89026d043dbc5aea"
  },
  {
   "cell_type": "code",
   "outputs": [],
   "source": [
    "import warnings\n",
    "warnings.filterwarnings('ignore')"
   ],
   "metadata": {
    "collapsed": false,
    "ExecuteTime": {
     "end_time": "2024-07-02T11:42:59.930062900Z",
     "start_time": "2024-07-02T11:42:59.925133300Z"
    }
   },
   "id": "f757601c0dd14447",
   "execution_count": 1
  },
  {
   "cell_type": "code",
   "execution_count": 2,
   "id": "4da639ff-3405-46f9-97d5-e2855fc95316",
   "metadata": {
    "tags": [],
    "ExecuteTime": {
     "end_time": "2024-07-02T11:43:10.902935700Z",
     "start_time": "2024-07-02T11:43:02.539306300Z"
    }
   },
   "outputs": [],
   "source": [
    "import pandas as pd\n",
    "from sklearn.linear_model import LogisticRegression\n",
    "from sklearn.ensemble import RandomForestClassifier, GradientBoostingClassifier\n",
    "from sklearn.tree import DecisionTreeClassifier\n",
    "from sklearn.neighbors import KNeighborsClassifier\n",
    "from sklearn.model_selection import train_test_split\n",
    "from sklearn.metrics import accuracy_score, f1_score, roc_auc_score"
   ]
  },
  {
   "cell_type": "markdown",
   "source": [
    "# Данные"
   ],
   "metadata": {
    "collapsed": false
   },
   "id": "95f3822b1ccf6a45"
  },
  {
   "cell_type": "code",
   "execution_count": 3,
   "id": "b3beed8e-bc4b-4b79-9c96-b47a2cea108a",
   "metadata": {
    "ExecuteTime": {
     "end_time": "2024-07-02T11:43:10.960449300Z",
     "start_time": "2024-07-02T11:43:10.907286600Z"
    }
   },
   "outputs": [
    {
     "data": {
      "text/plain": "   fixed acidity  volatile acidity  citric acid  residual sugar  chlorides  \\\n0            7.4              0.70         0.00             1.9      0.076   \n1            7.8              0.88         0.00             2.6      0.098   \n2            7.8              0.76         0.04             2.3      0.092   \n3           11.2              0.28         0.56             1.9      0.075   \n4            7.4              0.70         0.00             1.9      0.076   \n\n   free sulfur dioxide  total sulfur dioxide  density    pH  sulphates  \\\n0                 11.0                  34.0   0.9978  3.51       0.56   \n1                 25.0                  67.0   0.9968  3.20       0.68   \n2                 15.0                  54.0   0.9970  3.26       0.65   \n3                 17.0                  60.0   0.9980  3.16       0.58   \n4                 11.0                  34.0   0.9978  3.51       0.56   \n\n   alcohol  quality  \n0      9.4        5  \n1      9.8        5  \n2      9.8        5  \n3      9.8        6  \n4      9.4        5  ",
      "text/html": "<div>\n<style scoped>\n    .dataframe tbody tr th:only-of-type {\n        vertical-align: middle;\n    }\n\n    .dataframe tbody tr th {\n        vertical-align: top;\n    }\n\n    .dataframe thead th {\n        text-align: right;\n    }\n</style>\n<table border=\"1\" class=\"dataframe\">\n  <thead>\n    <tr style=\"text-align: right;\">\n      <th></th>\n      <th>fixed acidity</th>\n      <th>volatile acidity</th>\n      <th>citric acid</th>\n      <th>residual sugar</th>\n      <th>chlorides</th>\n      <th>free sulfur dioxide</th>\n      <th>total sulfur dioxide</th>\n      <th>density</th>\n      <th>pH</th>\n      <th>sulphates</th>\n      <th>alcohol</th>\n      <th>quality</th>\n    </tr>\n  </thead>\n  <tbody>\n    <tr>\n      <th>0</th>\n      <td>7.4</td>\n      <td>0.70</td>\n      <td>0.00</td>\n      <td>1.9</td>\n      <td>0.076</td>\n      <td>11.0</td>\n      <td>34.0</td>\n      <td>0.9978</td>\n      <td>3.51</td>\n      <td>0.56</td>\n      <td>9.4</td>\n      <td>5</td>\n    </tr>\n    <tr>\n      <th>1</th>\n      <td>7.8</td>\n      <td>0.88</td>\n      <td>0.00</td>\n      <td>2.6</td>\n      <td>0.098</td>\n      <td>25.0</td>\n      <td>67.0</td>\n      <td>0.9968</td>\n      <td>3.20</td>\n      <td>0.68</td>\n      <td>9.8</td>\n      <td>5</td>\n    </tr>\n    <tr>\n      <th>2</th>\n      <td>7.8</td>\n      <td>0.76</td>\n      <td>0.04</td>\n      <td>2.3</td>\n      <td>0.092</td>\n      <td>15.0</td>\n      <td>54.0</td>\n      <td>0.9970</td>\n      <td>3.26</td>\n      <td>0.65</td>\n      <td>9.8</td>\n      <td>5</td>\n    </tr>\n    <tr>\n      <th>3</th>\n      <td>11.2</td>\n      <td>0.28</td>\n      <td>0.56</td>\n      <td>1.9</td>\n      <td>0.075</td>\n      <td>17.0</td>\n      <td>60.0</td>\n      <td>0.9980</td>\n      <td>3.16</td>\n      <td>0.58</td>\n      <td>9.8</td>\n      <td>6</td>\n    </tr>\n    <tr>\n      <th>4</th>\n      <td>7.4</td>\n      <td>0.70</td>\n      <td>0.00</td>\n      <td>1.9</td>\n      <td>0.076</td>\n      <td>11.0</td>\n      <td>34.0</td>\n      <td>0.9978</td>\n      <td>3.51</td>\n      <td>0.56</td>\n      <td>9.4</td>\n      <td>5</td>\n    </tr>\n  </tbody>\n</table>\n</div>"
     },
     "execution_count": 3,
     "metadata": {},
     "output_type": "execute_result"
    }
   ],
   "source": [
    "path = 'winequality-red.csv'\n",
    "df = pd.read_csv(path)\n",
    "df.head()"
   ]
  },
  {
   "cell_type": "code",
   "outputs": [
    {
     "name": "stdout",
     "output_type": "stream",
     "text": [
      "<class 'pandas.core.frame.DataFrame'>\n",
      "RangeIndex: 1599 entries, 0 to 1598\n",
      "Data columns (total 12 columns):\n",
      " #   Column                Non-Null Count  Dtype  \n",
      "---  ------                --------------  -----  \n",
      " 0   fixed acidity         1599 non-null   float64\n",
      " 1   volatile acidity      1599 non-null   float64\n",
      " 2   citric acid           1599 non-null   float64\n",
      " 3   residual sugar        1599 non-null   float64\n",
      " 4   chlorides             1599 non-null   float64\n",
      " 5   free sulfur dioxide   1599 non-null   float64\n",
      " 6   total sulfur dioxide  1599 non-null   float64\n",
      " 7   density               1599 non-null   float64\n",
      " 8   pH                    1599 non-null   float64\n",
      " 9   sulphates             1599 non-null   float64\n",
      " 10  alcohol               1599 non-null   float64\n",
      " 11  quality               1599 non-null   int64  \n",
      "dtypes: float64(11), int64(1)\n",
      "memory usage: 150.0 KB\n"
     ]
    }
   ],
   "source": [
    "df.info()"
   ],
   "metadata": {
    "collapsed": false,
    "ExecuteTime": {
     "end_time": "2024-07-02T11:43:13.460836500Z",
     "start_time": "2024-07-02T11:43:13.401057600Z"
    }
   },
   "id": "ce872bc383c030df",
   "execution_count": 4
  },
  {
   "cell_type": "markdown",
   "source": [
    "Все переменные числа и null значений нет."
   ],
   "metadata": {
    "collapsed": false
   },
   "id": "83606cf58cbf578f"
  },
  {
   "cell_type": "code",
   "outputs": [
    {
     "data": {
      "text/plain": "5    681\n6    638\n7    199\n4     53\n8     18\n3     10\nName: quality, dtype: int64"
     },
     "execution_count": 5,
     "metadata": {},
     "output_type": "execute_result"
    }
   ],
   "source": [
    "df.quality.value_counts()"
   ],
   "metadata": {
    "collapsed": false,
    "ExecuteTime": {
     "end_time": "2024-07-02T11:43:19.273389400Z",
     "start_time": "2024-07-02T11:43:19.191181200Z"
    }
   },
   "id": "6f0170c5e71fa2dc",
   "execution_count": 5
  },
  {
   "cell_type": "markdown",
   "source": [
    "Таргетная переменная принимает шесть значений.  \n",
    "Распределение по классам неравномерное."
   ],
   "metadata": {
    "collapsed": false
   },
   "id": "ff3a4c950c0403ad"
  },
  {
   "cell_type": "markdown",
   "source": [
    "# Обучение моделей"
   ],
   "metadata": {
    "collapsed": false
   },
   "id": "dcf6ad04bcbb4000"
  },
  {
   "cell_type": "markdown",
   "source": [
    "Выделим таргетную переменную и признаки.  "
   ],
   "metadata": {
    "collapsed": false
   },
   "id": "1d21028e9103e109"
  },
  {
   "cell_type": "code",
   "execution_count": 6,
   "id": "bc91a04d-c678-4e56-a7b0-ac128fbdf297",
   "metadata": {
    "ExecuteTime": {
     "end_time": "2024-07-02T11:43:29.449528600Z",
     "start_time": "2024-07-02T11:43:29.411952Z"
    }
   },
   "outputs": [],
   "source": [
    "X = df.drop('quality', axis=1)\n",
    "y = df['quality']"
   ]
  },
  {
   "cell_type": "markdown",
   "source": [
    "Разобъём данные на трейн и тест, учитывая неравномерное распределение по классам.  "
   ],
   "metadata": {
    "collapsed": false
   },
   "id": "188deeaa0fe24832"
  },
  {
   "cell_type": "code",
   "outputs": [],
   "source": [
    "X_train, X_test, y_train, y_test = train_test_split(\n",
    "    X,\n",
    "    y,\n",
    "    test_size=0.2,\n",
    "    random_state=0,\n",
    "    stratify=y,\n",
    ")"
   ],
   "metadata": {
    "collapsed": false,
    "ExecuteTime": {
     "end_time": "2024-07-02T11:43:32.529800300Z",
     "start_time": "2024-07-02T11:43:32.431999600Z"
    }
   },
   "id": "33b3c290c3d380a3",
   "execution_count": 7
  },
  {
   "cell_type": "code",
   "outputs": [],
   "source": [
    "def test_model(model, X, y):\n",
    "    y_pred = model.predict(X)\n",
    "    y_score = model.predict_proba(X)\n",
    "\n",
    "    accuracy = accuracy_score(y,y_pred)\n",
    "    f1 = f1_score(y,y_pred, average=\"weighted\")\n",
    "    roc_auc = roc_auc_score(y, y_score, multi_class=\"ovo\")\n",
    "\n",
    "    return accuracy, f1, roc_auc"
   ],
   "metadata": {
    "collapsed": false,
    "ExecuteTime": {
     "end_time": "2024-07-02T11:43:34.743763700Z",
     "start_time": "2024-07-02T11:43:34.576987200Z"
    }
   },
   "id": "fc62c2e82ffe3a7e",
   "execution_count": 8
  },
  {
   "cell_type": "code",
   "outputs": [],
   "source": [
    "lr_model = LogisticRegression(random_state = 0, solver=\"sag\")\n",
    "rfc_model = RandomForestClassifier(random_state = 0)\n",
    "dtc_model = DecisionTreeClassifier(random_state = 0)\n",
    "gbc_model = GradientBoostingClassifier(random_state = 0)\n",
    "knn_model = KNeighborsClassifier()"
   ],
   "metadata": {
    "collapsed": false,
    "ExecuteTime": {
     "end_time": "2024-07-02T11:43:40.394315800Z",
     "start_time": "2024-07-02T11:43:40.389959100Z"
    }
   },
   "id": "13d6c8550c0ab70d",
   "execution_count": 9
  },
  {
   "cell_type": "code",
   "outputs": [],
   "source": [
    "metrics = pd.DataFrame(\n",
    "    index=[\n",
    "        [\"Accuracy\", \"Accuracy\", \"F1\", \"F1\", \"ROCAUC\", \"ROCAUC\"],\n",
    "        [\"train\", \"test\", \"train\", \"test\", \"train\", \"test\"],\n",
    "    ],\n",
    ")"
   ],
   "metadata": {
    "collapsed": false,
    "ExecuteTime": {
     "end_time": "2024-07-02T11:43:54.957102300Z",
     "start_time": "2024-07-02T11:43:54.942633900Z"
    }
   },
   "id": "7b54bfb5ba57e270",
   "execution_count": 10
  },
  {
   "cell_type": "code",
   "outputs": [],
   "source": [
    "for model in [lr_model, rfc_model, dtc_model, gbc_model, knn_model]:\n",
    "    model.fit(X_train, y_train)\n",
    "    accuracy_train, f1_train, rocauc_train = test_model(model, X_train, y_train)\n",
    "    accuracy_test, f1_test, rocauc_test = test_model(model, X_test, y_test)\n",
    "    metrics[model] = [\n",
    "        accuracy_train,\n",
    "        accuracy_test,\n",
    "        f1_train,\n",
    "        f1_test,\n",
    "        rocauc_train,\n",
    "        rocauc_test,\n",
    "    ]"
   ],
   "metadata": {
    "collapsed": false,
    "ExecuteTime": {
     "end_time": "2024-07-02T11:43:59.638020500Z",
     "start_time": "2024-07-02T11:43:56.622286700Z"
    }
   },
   "id": "1edfc2fa3f863d47",
   "execution_count": 11
  },
  {
   "cell_type": "code",
   "outputs": [],
   "source": [
    "metrics.columns = ['LogisticRegression',\n",
    "    'RandomForestClassifier', 'DecisionTreeClassifier',\n",
    "    'GradientBoostingClassifier',  'KNeighborsClassifier',\n",
    "]"
   ],
   "metadata": {
    "collapsed": false,
    "ExecuteTime": {
     "end_time": "2024-07-02T11:44:09.081249600Z",
     "start_time": "2024-07-02T11:44:09.030446800Z"
    }
   },
   "id": "3c574bc9511721e7",
   "execution_count": 12
  },
  {
   "cell_type": "code",
   "outputs": [
    {
     "data": {
      "text/plain": "                LogisticRegression  RandomForestClassifier  \\\nAccuracy train            0.520719                1.000000   \n         test             0.509375                0.712500   \nF1       train            0.473491                1.000000   \n         test             0.464213                0.691064   \nROCAUC   train            0.636827                1.000000   \n         test             0.587933                0.838521   \n\n                DecisionTreeClassifier  GradientBoostingClassifier  \\\nAccuracy train                1.000000                    0.888194   \n         test                 0.603125                    0.675000   \nF1       train                1.000000                    0.888276   \n         test                 0.599710                    0.660774   \nROCAUC   train                1.000000                    0.994049   \n         test                 0.578980                    0.686573   \n\n                KNeighborsClassifier  \nAccuracy train              0.658327  \n         test               0.475000  \nF1       train              0.643695  \n         test               0.458865  \nROCAUC   train              0.903822  \n         test               0.588438  ",
      "text/html": "<div>\n<style scoped>\n    .dataframe tbody tr th:only-of-type {\n        vertical-align: middle;\n    }\n\n    .dataframe tbody tr th {\n        vertical-align: top;\n    }\n\n    .dataframe thead th {\n        text-align: right;\n    }\n</style>\n<table border=\"1\" class=\"dataframe\">\n  <thead>\n    <tr style=\"text-align: right;\">\n      <th></th>\n      <th></th>\n      <th>LogisticRegression</th>\n      <th>RandomForestClassifier</th>\n      <th>DecisionTreeClassifier</th>\n      <th>GradientBoostingClassifier</th>\n      <th>KNeighborsClassifier</th>\n    </tr>\n  </thead>\n  <tbody>\n    <tr>\n      <th rowspan=\"2\" valign=\"top\">Accuracy</th>\n      <th>train</th>\n      <td>0.520719</td>\n      <td>1.000000</td>\n      <td>1.000000</td>\n      <td>0.888194</td>\n      <td>0.658327</td>\n    </tr>\n    <tr>\n      <th>test</th>\n      <td>0.509375</td>\n      <td>0.712500</td>\n      <td>0.603125</td>\n      <td>0.675000</td>\n      <td>0.475000</td>\n    </tr>\n    <tr>\n      <th rowspan=\"2\" valign=\"top\">F1</th>\n      <th>train</th>\n      <td>0.473491</td>\n      <td>1.000000</td>\n      <td>1.000000</td>\n      <td>0.888276</td>\n      <td>0.643695</td>\n    </tr>\n    <tr>\n      <th>test</th>\n      <td>0.464213</td>\n      <td>0.691064</td>\n      <td>0.599710</td>\n      <td>0.660774</td>\n      <td>0.458865</td>\n    </tr>\n    <tr>\n      <th rowspan=\"2\" valign=\"top\">ROCAUC</th>\n      <th>train</th>\n      <td>0.636827</td>\n      <td>1.000000</td>\n      <td>1.000000</td>\n      <td>0.994049</td>\n      <td>0.903822</td>\n    </tr>\n    <tr>\n      <th>test</th>\n      <td>0.587933</td>\n      <td>0.838521</td>\n      <td>0.578980</td>\n      <td>0.686573</td>\n      <td>0.588438</td>\n    </tr>\n  </tbody>\n</table>\n</div>"
     },
     "execution_count": 13,
     "metadata": {},
     "output_type": "execute_result"
    }
   ],
   "source": [
    "metrics"
   ],
   "metadata": {
    "collapsed": false,
    "ExecuteTime": {
     "end_time": "2024-07-02T11:44:12.573461200Z",
     "start_time": "2024-07-02T11:44:12.528080200Z"
    }
   },
   "id": "3b3ee15956585307",
   "execution_count": 13
  },
  {
   "cell_type": "markdown",
   "source": [
    "# Вывод"
   ],
   "metadata": {
    "collapsed": false
   },
   "id": "822d99f21efe0f41"
  },
  {
   "cell_type": "markdown",
   "source": [
    "У всех моделей, кроме модели LogisticRegression и в некоторой степени у модели KNeighborsClassifier наблюдается переобучение, - метрики на train существенно отличаются, чем на test.  \n",
    "Самое лучшее качество на test у модели RandomForestClassifier.  \n",
    "</br>\n",
    "Для дальнейших шагов выберем две модели у которых есть потенциал:    \n",
    "- RandomForestClassifier лучшее качество на test, нужно избежать переобучения,\n",
    "- LogisticRegression train и test не отличаются значительно, нужно повышать качество."
   ],
   "metadata": {
    "collapsed": false
   },
   "id": "7d496c45e06a646d"
  }
 ],
 "metadata": {
  "kernelspec": {
   "display_name": "Python 3 (ipykernel)",
   "language": "python",
   "name": "python3"
  },
  "language_info": {
   "codemirror_mode": {
    "name": "ipython",
    "version": 3
   },
   "file_extension": ".py",
   "mimetype": "text/x-python",
   "name": "python",
   "nbconvert_exporter": "python",
   "pygments_lexer": "ipython3",
   "version": "3.11.5"
  }
 },
 "nbformat": 4,
 "nbformat_minor": 5
}
